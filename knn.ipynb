{
  "nbformat": 4,
  "nbformat_minor": 0,
  "metadata": {
    "colab": {
      "provenance": [],
      "authorship_tag": "ABX9TyMRP46Fz80F84N7H92/Sle2",
      "include_colab_link": true
    },
    "kernelspec": {
      "name": "python3",
      "display_name": "Python 3"
    },
    "language_info": {
      "name": "python"
    }
  },
  "cells": [
    {
      "cell_type": "markdown",
      "metadata": {
        "id": "view-in-github",
        "colab_type": "text"
      },
      "source": [
        "<a href=\"https://colab.research.google.com/github/martinthetechie/machine_learning/blob/main/knn.ipynb\" target=\"_parent\"><img src=\"https://colab.research.google.com/assets/colab-badge.svg\" alt=\"Open In Colab\"/></a>"
      ]
    },
    {
      "cell_type": "code",
      "execution_count": null,
      "metadata": {
        "id": "1IXIFdhusSwj"
      },
      "outputs": [],
      "source": [
        "# K-Nearest Neighbors Implementation for Pokemon Dataset scrapeted from Serebii.net/provided by Kaggle"
      ]
    },
    {
      "cell_type": "code",
      "source": [
        "# Import Libraries\n",
        "import pandas as pd\n",
        "# sklearn lib\n",
        "from sklearn.model_selection import train_test_split\n",
        "from sklearn.preprocessing import StandardScaler, OneHotEncoder\n",
        "from sklearn.compose import ColumnTransformer\n",
        "from sklearn.pipeline import Pipeline\n",
        "from sklearn.impute import SimpleImputer\n",
        "from sklearn.neighbors import KNeighborsClassifier\n",
        "from sklearn.metrics import accuracy_score\n"
      ],
      "metadata": {
        "id": "LHgxP_qeuBuX"
      },
      "execution_count": 5,
      "outputs": []
    },
    {
      "cell_type": "code",
      "source": [
        "# Read pokemon dataset\n",
        "pokemon_df = pd.read_csv('pokemon.csv')\n",
        "pokemon_df.columns"
      ],
      "metadata": {
        "colab": {
          "base_uri": "https://localhost:8080/"
        },
        "id": "eINlJVsvtlbL",
        "outputId": "4e8f46c3-3c63-41dd-a6b5-04594e153da2"
      },
      "execution_count": 13,
      "outputs": [
        {
          "output_type": "execute_result",
          "data": {
            "text/plain": [
              "Index(['abilities', 'against_bug', 'against_dark', 'against_dragon',\n",
              "       'against_electric', 'against_fairy', 'against_fight', 'against_fire',\n",
              "       'against_flying', 'against_ghost', 'against_grass', 'against_ground',\n",
              "       'against_ice', 'against_normal', 'against_poison', 'against_psychic',\n",
              "       'against_rock', 'against_steel', 'against_water', 'attack',\n",
              "       'base_egg_steps', 'base_happiness', 'base_total', 'capture_rate',\n",
              "       'classfication', 'defense', 'experience_growth', 'height_m', 'hp',\n",
              "       'japanese_name', 'name', 'percentage_male', 'pokedex_number',\n",
              "       'sp_attack', 'sp_defense', 'speed', 'type1', 'type2', 'weight_kg',\n",
              "       'generation', 'is_legendary'],\n",
              "      dtype='object')"
            ]
          },
          "metadata": {},
          "execution_count": 13
        }
      ]
    },
    {
      "cell_type": "code",
      "source": [
        "# Features and target\n",
        "features = ['height_m', 'weight_kg', 'hp', 'attack', 'defense', 'sp_attack', 'sp_defense', 'speed', 'experience_growth', 'base_happiness', 'capture_rate', 'type1', 'type2', 'generation', 'is_legendary']\n",
        "target = 'type1'  # Example target for classification"
      ],
      "metadata": {
        "id": "4HSLAU3fuAe4"
      },
      "execution_count": 14,
      "outputs": []
    },
    {
      "cell_type": "code",
      "source": [
        "X = pokemon_df[features]\n",
        "y = pokemon_df[target]\n"
      ],
      "metadata": {
        "id": "vIKABUbTuhYb"
      },
      "execution_count": 15,
      "outputs": []
    },
    {
      "cell_type": "code",
      "source": [
        "# X.head()\n",
        "# y.head()\n",
        "# print(X[numeric_features].dtypes)\n",
        "pokemon_df['capture_rate']\n",
        "print(pokemon_df['capture_rate'].unique())\n",
        "pokemon_df = pokemon_df[pokemon_df['capture_rate'] != '30 (Meteorite)255 (Core)']\n",
        "pokemon_df['capture_rate'] = pokemon_df['capture_rate'].astype(float)\n",
        "pokemon_df['capture_rate']\n"
      ],
      "metadata": {
        "colab": {
          "base_uri": "https://localhost:8080/"
        },
        "id": "cv_uO1RMuyPq",
        "outputId": "04d15466-c21f-4341-f1cc-5b5fe6766951"
      },
      "execution_count": 36,
      "outputs": [
        {
          "output_type": "stream",
          "name": "stdout",
          "text": [
            "['45' '255' '120' '127' '90' '190' '75' '235' '150' '25' '170' '50' '200'\n",
            " '100' '180' '60' '225' '30' '35' '3' '65' '70' '125' '205' '155' '145'\n",
            " '130' '140' '15' '220' '160' '80' '55' '30 (Meteorite)255 (Core)']\n"
          ]
        },
        {
          "output_type": "stream",
          "name": "stderr",
          "text": [
            "<ipython-input-36-c8f4f04ac9c9>:7: SettingWithCopyWarning: \n",
            "A value is trying to be set on a copy of a slice from a DataFrame.\n",
            "Try using .loc[row_indexer,col_indexer] = value instead\n",
            "\n",
            "See the caveats in the documentation: https://pandas.pydata.org/pandas-docs/stable/user_guide/indexing.html#returning-a-view-versus-a-copy\n",
            "  pokemon_df['capture_rate'] = pokemon_df['capture_rate'].astype(float)\n"
          ]
        },
        {
          "output_type": "execute_result",
          "data": {
            "text/plain": [
              "0       45.0\n",
              "1       45.0\n",
              "2       45.0\n",
              "3       45.0\n",
              "4       45.0\n",
              "       ...  \n",
              "796     25.0\n",
              "797    255.0\n",
              "798     15.0\n",
              "799      3.0\n",
              "800      3.0\n",
              "Name: capture_rate, Length: 800, dtype: float64"
            ]
          },
          "metadata": {},
          "execution_count": 36
        }
      ]
    },
    {
      "cell_type": "code",
      "source": [
        "X = pokemon_df[features]\n",
        "y = pokemon_df[target]"
      ],
      "metadata": {
        "id": "4LtrJ1wj0mq2"
      },
      "execution_count": 37,
      "outputs": []
    },
    {
      "cell_type": "code",
      "source": [
        "# Handle missing values and encode categorical features using sklearn.Pipeline\n",
        "numeric_features = ['height_m', 'weight_kg', 'hp', 'attack', 'defense', 'sp_attack', 'sp_defense', 'speed', 'experience_growth', 'base_happiness', 'capture_rate']\n",
        "categorical_features = ['type1', 'type2', 'generation', 'is_legendary']\n",
        "\n",
        "preprocessor = ColumnTransformer(\n",
        "    transformers=[\n",
        "        ('num', Pipeline(steps=[\n",
        "            ('imputer', SimpleImputer(strategy='mean')),\n",
        "            ('scaler', StandardScaler())\n",
        "        ]), numeric_features),\n",
        "        ('cat', Pipeline(steps=[\n",
        "            ('imputer', SimpleImputer(strategy='most_frequent')),\n",
        "            ('onehot', OneHotEncoder(handle_unknown='ignore'))\n",
        "        ]), categorical_features)\n",
        "    ])"
      ],
      "metadata": {
        "id": "F3duW3JTunhy"
      },
      "execution_count": 38,
      "outputs": []
    },
    {
      "cell_type": "code",
      "source": [
        "# Preprocessing pipeline\n",
        "pipeline = Pipeline(steps=[('preprocessor', preprocessor),\n",
        "                           ('classifier', KNeighborsClassifier(n_neighbors=3))])\n",
        "\n",
        "# Split data\n",
        "X_train, X_test, y_train, y_test = train_test_split(X, y, test_size=0.3, random_state=0)\n",
        "\n",
        "# Train model\n",
        "pipeline.fit(X_train, y_train)\n",
        "\n",
        "# Predict and evaluate\n",
        "y_pred = pipeline.predict(X_test)\n"
      ],
      "metadata": {
        "id": "nm5Lyp-svU91"
      },
      "execution_count": 39,
      "outputs": []
    },
    {
      "cell_type": "code",
      "source": [
        "accuracy = accuracy_score(y_test, y_pred)\n",
        "print(f'Accuracy: {accuracy:.2f}')"
      ],
      "metadata": {
        "colab": {
          "base_uri": "https://localhost:8080/"
        },
        "id": "N-DfWKFYu3h3",
        "outputId": "1d164039-d195-42a6-bc8d-c2709c004422"
      },
      "execution_count": 40,
      "outputs": [
        {
          "output_type": "stream",
          "name": "stdout",
          "text": [
            "Accuracy: 0.65\n"
          ]
        }
      ]
    },
    {
      "cell_type": "code",
      "source": [
        "# Using GridSearchCv to find best params"
      ],
      "metadata": {
        "id": "w2vC4d_q1TKv"
      },
      "execution_count": 41,
      "outputs": []
    },
    {
      "cell_type": "code",
      "source": [
        "# Import library\n",
        "from sklearn.model_selection import GridSearchCV"
      ],
      "metadata": {
        "id": "N3BLr30c1Whu"
      },
      "execution_count": 42,
      "outputs": []
    },
    {
      "cell_type": "code",
      "source": [
        "# Define parameter grid\n",
        "param_grid = {\n",
        "    'classifier__n_neighbors': [3, 5, 7, 9],\n",
        "    'classifier__p': [1, 2]  # p=1 for Manhattan distance, p=2 for Euclidean distance\n",
        "}\n",
        "\n",
        "# Grid search with cross-validation\n",
        "grid_search = GridSearchCV(pipeline, param_grid, cv=5, scoring='accuracy')\n",
        "grid_search.fit(X_train, y_train)\n",
        "\n",
        "# Best parameters and score\n",
        "print(f\"Best parameters: {grid_search.best_params_}\")\n",
        "print(f\"Best cross-validation score: {grid_search.best_score_:.2f}\")"
      ],
      "metadata": {
        "colab": {
          "base_uri": "https://localhost:8080/"
        },
        "id": "VCI_g2qz1Z2k",
        "outputId": "64ad66a7-e877-4f45-f4df-68ba746b68ac"
      },
      "execution_count": 43,
      "outputs": [
        {
          "output_type": "stream",
          "name": "stderr",
          "text": [
            "/usr/local/lib/python3.10/dist-packages/sklearn/model_selection/_split.py:700: UserWarning: The least populated class in y has only 3 members, which is less than n_splits=5.\n",
            "  warnings.warn(\n"
          ]
        },
        {
          "output_type": "stream",
          "name": "stdout",
          "text": [
            "Best parameters: {'classifier__n_neighbors': 9, 'classifier__p': 1}\n",
            "Best cross-validation score: 0.75\n"
          ]
        }
      ]
    },
    {
      "cell_type": "code",
      "source": [
        "# Predict with best parameters\n",
        "y_pred = grid_search.predict(X_test)\n",
        "print(f'Accuracy: {accuracy_score(y_test, y_pred):.2f}')"
      ],
      "metadata": {
        "colab": {
          "base_uri": "https://localhost:8080/"
        },
        "id": "RJSgnIk_1fc8",
        "outputId": "f17db34d-2365-4aba-9fbd-f4119aa859de"
      },
      "execution_count": 44,
      "outputs": [
        {
          "output_type": "stream",
          "name": "stdout",
          "text": [
            "Accuracy: 0.77\n"
          ]
        }
      ]
    }
  ]
}